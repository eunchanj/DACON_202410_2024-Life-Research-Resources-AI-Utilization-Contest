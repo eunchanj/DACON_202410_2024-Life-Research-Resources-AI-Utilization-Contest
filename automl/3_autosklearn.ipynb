{
 "cells": [
  {
   "cell_type": "code",
   "execution_count": 1,
   "id": "d9608036-3be0-44c8-9a1c-cf72b3d0f851",
   "metadata": {},
   "outputs": [
    {
     "name": "stderr",
     "output_type": "stream",
     "text": [
      "/tmp/ipykernel_57774/3742414261.py:20: PerformanceWarning: DataFrame is highly fragmented.  This is usually the result of calling `frame.insert` many times, which has poor performance.  Consider joining all columns at once using pd.concat(axis=1) instead. To get a de-fragmented frame, use `newframe = frame.copy()`\n",
      "  test['mutations'] = test[mutation_columns].apply(lambda x: ' '.join(x.astype(str)), axis=1)\n"
     ]
    }
   ],
   "source": [
    "# 필요한 라이브러리 임포트\n",
    "import pandas as pd\n",
    "import numpy as np\n",
    "from sklearn.preprocessing import LabelEncoder\n",
    "from sklearn.model_selection import train_test_split\n",
    "\n",
    "# 데이터 로드\n",
    "train = pd.read_csv('../data/train.csv')\n",
    "test = pd.read_csv('../data/test.csv')\n",
    "\n",
    "# 결측값 처리\n",
    "train.fillna('WT', inplace=True)\n",
    "test.fillna('WT', inplace=True)\n",
    "\n",
    "# 변이 열 준비\n",
    "mutation_columns = [col for col in train.columns if col not in ['ID', 'SUBCLASS']]\n",
    "\n",
    "# 변이 정보를 문자열로 결합\n",
    "train['mutations'] = train[mutation_columns].apply(lambda x: ' '.join(x.astype(str)), axis=1)\n",
    "test['mutations'] = test[mutation_columns].apply(lambda x: ' '.join(x.astype(str)), axis=1)\n",
    "\n",
    "# 타겟 레이블 인코딩\n",
    "label_encoder = LabelEncoder()\n",
    "train['SUBCLASS'] = label_encoder.fit_transform(train['SUBCLASS'])\n",
    "num_classes = len(label_encoder.classes_)\n",
    "\n",
    "# 특징과 타겟 준비\n",
    "X = train['mutations']\n",
    "y = train['SUBCLASS']\n",
    "\n",
    "# 텍스트 데이터를 숫자 특징으로 변환하기 위해 TF-IDF 벡터화를 사용\n",
    "from sklearn.feature_extraction.text import TfidfVectorizer\n",
    "\n",
    "tfidf = TfidfVectorizer()\n",
    "\n",
    "X_tfidf = tfidf.fit_transform(X)\n",
    "X_test_tfidf = tfidf.transform(test['mutations'])\n",
    "\n",
    "# 학습 데이터를 훈련 세트와 검증 세트로 분할\n",
    "X_train, X_valid, y_train, y_valid = train_test_split(X_tfidf, y, test_size=0.2, random_state=42, stratify=y)\n"
   ]
  },
  {
   "cell_type": "code",
   "execution_count": 3,
   "id": "f4ea8869-3769-448d-af55-b3157987f94d",
   "metadata": {},
   "outputs": [
    {
     "name": "stdout",
     "output_type": "stream",
     "text": [
      "[WARNING] [2024-10-15 07:02:17,690:Client-EnsembleBuilder] No runs were available to build an ensemble from\n",
      "[WARNING] [2024-10-15 07:02:19,173:Client-EnsembleBuilder] No models better than random - using Dummy losses!\n",
      "\tModels besides current dummy model: 0\n",
      "\tDummy models: 1\n",
      "Auto-sklearn Classification Report:\n",
      "              precision    recall  f1-score   support\n",
      "\n",
      "         ACC       1.00      0.79      0.88        14\n",
      "        BLCA       0.10      0.05      0.06        21\n",
      "        BRCA       0.26      0.52      0.35       157\n",
      "        CESC       0.00      0.00      0.00        31\n",
      "        COAD       0.55      0.13      0.21        45\n",
      "        DLBC       0.00      0.00      0.00         7\n",
      "      GBMLGG       0.32      0.25      0.28        92\n",
      "        HNSC       0.09      0.02      0.04        45\n",
      "       KIPAN       0.17      0.58      0.26       103\n",
      "        KIRC       0.00      0.00      0.00        67\n",
      "        LAML       0.29      0.31      0.30        32\n",
      "         LGG       0.29      0.22      0.25        46\n",
      "        LIHC       0.00      0.00      0.00        31\n",
      "        LUAD       0.00      0.00      0.00        37\n",
      "        LUSC       0.31      0.42      0.36        36\n",
      "          OV       0.11      0.02      0.03        51\n",
      "        PAAD       0.00      0.00      0.00        24\n",
      "        PCPG       0.00      0.00      0.00        29\n",
      "        PRAD       0.25      0.09      0.14        53\n",
      "        SARC       0.00      0.00      0.00        40\n",
      "        SKCM       0.76      0.71      0.74        55\n",
      "        STES       0.32      0.64      0.42        76\n",
      "        TGCT       0.00      0.00      0.00        25\n",
      "        THCA       0.71      0.60      0.65        65\n",
      "        THYM       0.27      0.32      0.29        19\n",
      "        UCEC       0.33      0.12      0.18        40\n",
      "\n",
      "    accuracy                           0.29      1241\n",
      "   macro avg       0.24      0.22      0.21      1241\n",
      "weighted avg       0.25      0.29      0.24      1241\n",
      "\n"
     ]
    },
    {
     "name": "stderr",
     "output_type": "stream",
     "text": [
      "/opt/conda/envs/autosklearn2/lib/python3.8/site-packages/sklearn/metrics/_classification.py:1248: UndefinedMetricWarning: Precision and F-score are ill-defined and being set to 0.0 in labels with no predicted samples. Use `zero_division` parameter to control this behavior.\n",
      "  _warn_prf(average, modifier, msg_start, len(result))\n",
      "/opt/conda/envs/autosklearn2/lib/python3.8/site-packages/sklearn/metrics/_classification.py:1248: UndefinedMetricWarning: Precision and F-score are ill-defined and being set to 0.0 in labels with no predicted samples. Use `zero_division` parameter to control this behavior.\n",
      "  _warn_prf(average, modifier, msg_start, len(result))\n",
      "/opt/conda/envs/autosklearn2/lib/python3.8/site-packages/sklearn/metrics/_classification.py:1248: UndefinedMetricWarning: Precision and F-score are ill-defined and being set to 0.0 in labels with no predicted samples. Use `zero_division` parameter to control this behavior.\n",
      "  _warn_prf(average, modifier, msg_start, len(result))\n"
     ]
    },
    {
     "name": "stdout",
     "output_type": "stream",
     "text": [
      "Auto-sklearn 제출 파일이 생성되었습니다: submission_autosklearn.csv\n"
     ]
    },
    {
     "name": "stderr",
     "output_type": "stream",
     "text": [
      "/tmp/ipykernel_57774/1405901231.py:26: PerformanceWarning: DataFrame is highly fragmented.  This is usually the result of calling `frame.insert` many times, which has poor performance.  Consider joining all columns at once using pd.concat(axis=1) instead. To get a de-fragmented frame, use `newframe = frame.copy()`\n",
      "  test['SUBCLASS'] = label_encoder.inverse_transform(y_test_pred)\n"
     ]
    }
   ],
   "source": [
    "# Auto-sklearn 임포트\n",
    "import autosklearn.classification\n",
    "from sklearn.metrics import classification_report\n",
    "\n",
    "# Auto-sklearn 분류기 생성\n",
    "automl = autosklearn.classification.AutoSklearnClassifier(\n",
    "    time_left_for_this_task=3600,  # 총 시간 제한 (초)\n",
    "    per_run_time_limit=360,  # 각 모델당 시간 제한 (초)\n",
    "    metric=autosklearn.metrics.log_loss,\n",
    "    n_jobs=-1,\n",
    "    memory_limit=10240  # 메모리 제한 (MB)\n",
    ")\n",
    "\n",
    "# AutoML 모델 학습\n",
    "automl.fit(X_train, y_train)\n",
    "\n",
    "# 검증 데이터에 대한 예측\n",
    "y_pred = automl.predict(X_valid)\n",
    "\n",
    "# 성능 평가\n",
    "print(\"Auto-sklearn Classification Report:\")\n",
    "print(classification_report(y_valid, y_pred, target_names=label_encoder.classes_))\n",
    "\n",
    "# 테스트 데이터에 대한 예측\n",
    "y_test_pred = automl.predict(X_test_tfidf)\n",
    "test['SUBCLASS'] = label_encoder.inverse_transform(y_test_pred)\n",
    "\n",
    "# 제출 파일 생성\n",
    "submission = test[['ID', 'SUBCLASS']]\n",
    "submission.to_csv('submission_autosklearn.csv', index=False)\n",
    "print(\"Auto-sklearn 제출 파일이 생성되었습니다: submission_autosklearn.csv\")\n"
   ]
  }
 ],
 "metadata": {
  "kernelspec": {
   "display_name": "autosklearn2",
   "language": "python",
   "name": "autosklearn2"
  },
  "language_info": {
   "codemirror_mode": {
    "name": "ipython",
    "version": 3
   },
   "file_extension": ".py",
   "mimetype": "text/x-python",
   "name": "python",
   "nbconvert_exporter": "python",
   "pygments_lexer": "ipython3",
   "version": "3.8.20"
  }
 },
 "nbformat": 4,
 "nbformat_minor": 5
}
